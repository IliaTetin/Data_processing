{
 "cells": [
  {
   "cell_type": "markdown",
   "id": "4d4f308e",
   "metadata": {},
   "source": [
    "# Analytcs for Business and Decision Making (Fall 2023)\n",
    "## Week 1 - Introduction to Python\n",
    "Author: Dr. Ilia Tetin"
   ]
  },
  {
   "cell_type": "markdown",
   "id": "994a463d",
   "metadata": {},
   "source": [
    "Python brings several advantages that make it an ideal language for data processing. Let's take a closer look at some of its key features:\n",
    "\n",
    "**Simplicity and Readability**: Python is known for its clean and intuitive syntax, which resembles natural language. This simplicity makes it easier to understand and write code, reducing the learning curve for beginners and promoting collaboration among developers."
   ]
  },
  {
   "cell_type": "code",
   "execution_count": null,
   "id": "eaf827d3",
   "metadata": {},
   "outputs": [],
   "source": [
    "# Example 1: Calculating the Sum of Two Numbers\n",
    "\n"
   ]
  },
  {
   "cell_type": "code",
   "execution_count": null,
   "id": "5b16a362",
   "metadata": {},
   "outputs": [],
   "source": [
    "# Example 2: Finding the max value of a list\n"
   ]
  },
  {
   "cell_type": "markdown",
   "id": "b11d7f2a",
   "metadata": {},
   "source": [
    "**Vast Ecosystem of Libraries**: Python boasts a rich ecosystem of libraries and frameworks specifically designed for data processing tasks. From Pandas for data manipulation, NumPy for numerical computations, Matplotlib for data visualization, to scikit-learn for machine learning, Python offers a wide range of tools that accelerate and simplify data processing workflows."
   ]
  },
  {
   "cell_type": "code",
   "execution_count": null,
   "id": "6cf6f011",
   "metadata": {},
   "outputs": [],
   "source": [
    "import matplotlib.pyplot as plt\n",
    "import numpy as np\n",
    "# Example 3: \n"
   ]
  },
  {
   "cell_type": "markdown",
   "id": "d75c5c24",
   "metadata": {},
   "source": [
    "### Variable names\n",
    "\n",
    "In Python, variable names must adhere to certain rules and conventions. Here are the guidelines for variable names in Python:\n",
    "\n",
    "Valid Characters: Variable names can consist of letters (both lowercase and uppercase), digits, and underscores (_). However, they cannot start with a digit. For example, my_variable, count_1, and Total are valid variable names.\n",
    "\n",
    "Case-Sensitive: Python is case-sensitive, meaning that my_variable and My_Variable are treated as two different variables.\n",
    "\n",
    "Reserved Words: You cannot use reserved words (also known as keywords) as variable names because they have predefined meanings in Python. Examples of reserved words include if, for, while, def, class, and so on.\n",
    "\n",
    "Descriptive and Meaningful: It is good practice to choose variable names that are descriptive and convey the purpose or meaning of the variable. This helps improve code readability and makes it easier to understand the code's functionality.\n",
    "\n",
    "Snake Case: Python conventionally uses snake_case for variable names, where words are separated by underscores. For example, my_variable_name, number_of_students, and total_score follow the snake_case convention.\n",
    "\n",
    "Avoid Starting with Underscore: Variable names that start with a single underscore (_) have a special meaning in Python. They are considered private variables, indicating that they are intended for internal use within a class or module. It is generally recommended to avoid using a single leading underscore in variable names unless you specifically intend to create a private variable.\n"
   ]
  },
  {
   "cell_type": "code",
   "execution_count": null,
   "id": "43a2681d",
   "metadata": {},
   "outputs": [],
   "source": [
    "# Example 4:"
   ]
  },
  {
   "cell_type": "markdown",
   "id": "190272c5",
   "metadata": {},
   "source": [
    "#### Task 1.1 \n",
    "Calculate the sum of 10.8, 12.2 and 0.2, store it in the variable total"
   ]
  },
  {
   "cell_type": "code",
   "execution_count": 4,
   "id": "fd8573af",
   "metadata": {},
   "outputs": [],
   "source": [
    "### YOUR CODE"
   ]
  },
  {
   "cell_type": "code",
   "execution_count": null,
   "id": "fdc7a46f",
   "metadata": {},
   "outputs": [],
   "source": [
    "assert total == 23.2, \"Result is incorrect\"\n",
    "print(\"Ok\")"
   ]
  },
  {
   "cell_type": "markdown",
   "id": "254e6d05",
   "metadata": {},
   "source": [
    "### Operators\n",
    "\n",
    "-   Arithmetic operators: These operators are used to perform arithmetic operations, such as addition `(+)`, subtraction `(-)`, multiplication `(*)`, division `(/)`, floor division `(//)`, and remainder/modulo `(%)` operations.\n"
   ]
  },
  {
   "cell_type": "code",
   "execution_count": 17,
   "id": "cb41af91",
   "metadata": {},
   "outputs": [
    {
     "name": "stdout",
     "output_type": "stream",
     "text": [
      "2 * 3 = 6\n",
      "Two to the power of 10 = 1024\n",
      "True division 7 / 4 = 1.75\n",
      "Floor division 7 // 4 = 1\n",
      "Floor division 3 // 5 = 0\n",
      "Floor division 14 // 7 = 2\n",
      "Remainder operation 17 % 5 = 2\n",
      "Remainder operation 7.5 % 3.5 = 0.5\n"
     ]
    }
   ],
   "source": [
    "print('2 * 3 =', 2 * 3)\n",
    "print('Two to the power of 10 =', 2 ** 10)\n",
    "print('True division 7 / 4 =', 7 / 4)\n",
    "print('Floor division 7 // 4 =', 7 // 4)\n",
    "print('Floor division 3 // 5 =', 3 // 5)\n",
    "print('Floor division 14 // 7 =', 14 // 7)\n",
    "print('Remainder operation 17 % 5 =', 17 % 5)\n",
    "print('Remainder operation 7.5 % 3.5 =', 7.5 % 3.5)"
   ]
  },
  {
   "cell_type": "markdown",
   "id": "10c98075",
   "metadata": {},
   "source": [
    "#### Task 1.2 \n",
    "Evaluate the following complex expression and print the result\n",
    "$$\\left(\\frac{3.35 + 42.19 * 22}{5.123 - 1.447}\\right)^{2.32}$$"
   ]
  },
  {
   "cell_type": "code",
   "execution_count": 1,
   "id": "e7e5d449",
   "metadata": {},
   "outputs": [
    {
     "name": "stdout",
     "output_type": "stream",
     "text": [
      "Ok\n"
     ]
    }
   ],
   "source": [
    "### YOUR CODE \n",
    "\n",
    "assert result == 377455.2899600736, \"Result is incorrect\"\n",
    "print(\"Ok\")"
   ]
  },
  {
   "cell_type": "markdown",
   "id": "22c15813",
   "metadata": {},
   "source": [
    "\n",
    "-   Comparison operators: These operators are used to compare values, and return a Boolean value indicating whether the comparison is True or False. The comparison operators are: equal to `(==)`, not equal to `(!=)`, greater than `(>)`, less than `(<)`, greater than or equal to `(>=)`, and less than or equal to `(<=)`.\n",
    "\n"
   ]
  },
  {
   "cell_type": "code",
   "execution_count": 20,
   "id": "466f6c06",
   "metadata": {},
   "outputs": [
    {
     "name": "stdout",
     "output_type": "stream",
     "text": [
      "x == y: False\n",
      "x != y: True\n",
      "x > y: False\n",
      "x < y: True\n",
      "x >= y: False\n",
      "x <= y: True\n"
     ]
    }
   ],
   "source": [
    "# Example usage:\n",
    "x = 5\n",
    "y = 10\n",
    "\n",
    "print(\"x == y:\", x == y)  # False\n",
    "print(\"x != y:\", x != y)  # True\n",
    "print(\"x > y:\", x > y)    # False\n",
    "print(\"x < y:\", x < y)    # True\n",
    "print(\"x >= y:\", x >= y)  # False\n",
    "print(\"x <= y:\", x <= y)  # True"
   ]
  },
  {
   "cell_type": "markdown",
   "id": "0eaaa64e",
   "metadata": {},
   "source": [
    "-   Assignment operators: These operators are used to assign values to variables, and include simple assignment `(=)`, as well as augmented assignment operators (`+=, -=, *=, /=, //=, %=`) that perform an operation and assignment in one step."
   ]
  },
  {
   "cell_type": "code",
   "execution_count": 21,
   "id": "a04abb41",
   "metadata": {},
   "outputs": [
    {
     "name": "stdout",
     "output_type": "stream",
     "text": [
      "x: 8\n",
      "y: 5.0\n"
     ]
    }
   ],
   "source": [
    "# Example usage:\n",
    "x = 5\n",
    "x += 3  # Equivalent to x = x + 3\n",
    "print(\"x:\", x)  # 8\n",
    "\n",
    "y = 10\n",
    "y /= 2  # Equivalent to y = y / 2\n",
    "print(\"y:\", y)  # 5.0"
   ]
  },
  {
   "cell_type": "markdown",
   "id": "2bad7e12",
   "metadata": {},
   "source": [
    "#### Task 1.3\n",
    "\n",
    "Write code that takes an input of two numbers, and calculates their sum, difference, product, and quotient.\n",
    "        \n",
    "        Enter the first number: 5\n",
    "        Enter the second number: 3\n",
    "\n",
    "        Sum: 8\n",
    "        Difference: 2\n",
    "        Product: 15\n",
    "        Quotient: 1.6666666666666667"
   ]
  },
  {
   "cell_type": "code",
   "execution_count": null,
   "id": "394f3e17",
   "metadata": {},
   "outputs": [],
   "source": [
    "# Input\n",
    "a = int(input(\"Enter the first number: \"))\n",
    "b = int(input(\"Enter the second number: \"))\n",
    "\n",
    "#### YOUR CODE\n",
    "# Calculation\n",
    "\n",
    "\n",
    "# Output\n",
    "print(\"Sum:\", sum)\n",
    "print(\"Difference:\", difference)\n",
    "print(\"Product:\", product)\n",
    "print(\"Quotient:\", quotient)"
   ]
  },
  {
   "cell_type": "markdown",
   "id": "5ae3c0c0",
   "metadata": {},
   "source": [
    "### Getting input from the user:\n",
    "Getting input from the user is an essential aspect of interactive programming. It allows programs to interact with users by receiving data or information that can be used for further processing.\n",
    "\n",
    "In Python, we can use the input() function to prompt the user for input. The input() function displays a message to the user, waits for them to enter a value, and returns that value as a string."
   ]
  },
  {
   "cell_type": "code",
   "execution_count": null,
   "id": "2aa90cc6",
   "metadata": {},
   "outputs": [],
   "source": [
    "# Prompt the user for their name\n",
    "\n",
    "# Display a personalized greeting"
   ]
  },
  {
   "cell_type": "markdown",
   "id": "6a8ae8ff",
   "metadata": {},
   "source": [
    "#### Task 1.4\n",
    "Write a program that displays a greeting in the form of the word \"Hello\" (without quotes), followed by a comma and a space, and then the name you typed.\n",
    "\n",
    "**Sample Input 1:**\n",
    "```\n",
    "Bob\n",
    "```\n",
    "\n",
    "\n",
    "**Sample Output 1:**\n",
    "```\n",
    "Hello, Bob\n",
    "```\n"
   ]
  },
  {
   "cell_type": "code",
   "execution_count": null,
   "id": "3eee33bb",
   "metadata": {},
   "outputs": [],
   "source": [
    "### YOUR CODE\n"
   ]
  },
  {
   "cell_type": "markdown",
   "id": "aa6f7916",
   "metadata": {},
   "source": [
    "#### Task 1.5\n",
    "Write a program that reads three lines in turn and then outputs them in the same sequence, each on a separate line."
   ]
  },
  {
   "cell_type": "code",
   "execution_count": null,
   "id": "58ebaeaa",
   "metadata": {},
   "outputs": [],
   "source": [
    "### YOUR CODE"
   ]
  },
  {
   "cell_type": "markdown",
   "id": "a93e7b7e",
   "metadata": {},
   "source": [
    "#### Task 1.6 \n",
    "Write a program that reads three lines in turn and then outputs them in reverse order, each on a separate line."
   ]
  },
  {
   "cell_type": "code",
   "execution_count": null,
   "id": "dfede638",
   "metadata": {},
   "outputs": [],
   "source": [
    "### YOUR CODE\n"
   ]
  },
  {
   "cell_type": "markdown",
   "id": "e2698b24",
   "metadata": {},
   "source": [
    "### Parameter sep\n",
    "Default command ```print()``` takes several arguments (parameters), displays them separated by one **space** , after which it **puts a newline** . This behavior can be changed using optional named parameters sep(separator, separator) and end(the ending). "
   ]
  },
  {
   "cell_type": "code",
   "execution_count": null,
   "id": "2c2d4a71",
   "metadata": {},
   "outputs": [],
   "source": [
    "# Example:\n"
   ]
  },
  {
   "cell_type": "markdown",
   "id": "e5cc248e",
   "metadata": {},
   "source": [
    "### Parameter end \n",
    "If you do not need to do a line break or you need to specify a special ending, then you must explicitly specify a value for the parameter end.\n",
    "\n",
    "Consider the following code: "
   ]
  },
  {
   "cell_type": "code",
   "execution_count": null,
   "id": "0d388885",
   "metadata": {},
   "outputs": [],
   "source": [
    "# Example:\n"
   ]
  },
  {
   "cell_type": "markdown",
   "id": "5423995e",
   "metadata": {},
   "source": [
    "#### Task 1.7\n",
    "\n",
    "Write a program that displays the text `\"I***like***Python\"` (without quotes) on the screen."
   ]
  },
  {
   "cell_type": "code",
   "execution_count": null,
   "id": "70efa1f5",
   "metadata": {},
   "outputs": [],
   "source": [
    "### YOUR CODE"
   ]
  },
  {
   "cell_type": "markdown",
   "id": "02934963",
   "metadata": {},
   "source": [
    "#### Task 1.8\n",
    "\n",
    "Write a program that reads a delimiter string and three lines, and then outputs the specified lines separated by a delimiter.\n",
    "\n",
    "**Input data format**\n",
    "The input to the program is a delimiter string and three lines, each on a separate line.\n",
    "\n",
    "**Output data format**\n",
    "The program should display the entered three lines separated by a separator.\n",
    "\n",
    "**Sample Input 1 :**\n",
    "```\n",
    "*\n",
    "Once\n",
    "Two\n",
    "Three\n",
    "```\n",
    "**Sample Output 1 :**\n",
    "\n",
    "```One*two*Three ```\n",
    "\n",
    "**Sample Input 2 :**\n",
    "```\n",
    "##\n",
    "Money often\n",
    "costs\n",
    "too much \n",
    "```\n",
    "\n",
    "**Sample Output 2 :**\n",
    "\n",
    "```Money often##costs##too much ```"
   ]
  },
  {
   "cell_type": "code",
   "execution_count": null,
   "id": "62db864b",
   "metadata": {},
   "outputs": [],
   "source": [
    "### YOUR CODE"
   ]
  },
  {
   "cell_type": "markdown",
   "id": "34ee9a6f",
   "metadata": {},
   "source": [
    "# Working with integers \n",
    "\n",
    "In Python, converting a string to an integer is facilitated by the built-in function int()."
   ]
  },
  {
   "cell_type": "code",
   "execution_count": null,
   "id": "8c982755",
   "metadata": {},
   "outputs": [],
   "source": [
    "s = '1992'  # Variable 's' is assigned a string value\n",
    "year = int(s) "
   ]
  },
  {
   "cell_type": "markdown",
   "id": "e1ec86a0",
   "metadata": {},
   "source": [
    "Variable $s$ has a string data type. With the command int(), we have converted the string to an integer and written the result to a variable named year. We use a new command (more precisely, a function) −  int(). It means: \"Take what's in the parentheses as an argument and turn it into an integer.\" So the variable yearhas an integer data type, and a variable $s$ – string data type.\n",
    "\n",
    "Let's write a program that reads two integers and displays their sum on the screen. The following code won't work here: "
   ]
  },
  {
   "cell_type": "code",
   "execution_count": null,
   "id": "dd068163",
   "metadata": {},
   "outputs": [],
   "source": [
    "num1 = input()\n",
    "num2 = input()\n",
    "print(num1 + num2)"
   ]
  },
  {
   "cell_type": "markdown",
   "id": "3cce8f63",
   "metadata": {},
   "source": [
    "Converting an integer to a string. To convert an integer to a string, we use the command `str()`. Consider the following code: "
   ]
  },
  {
   "cell_type": "code",
   "execution_count": null,
   "id": "7f6cad07",
   "metadata": {},
   "outputs": [],
   "source": [
    "num = 17\n",
    "s = str(17)"
   ]
  },
  {
   "cell_type": "markdown",
   "id": "7e5cd7c3",
   "metadata": {},
   "source": [
    "#### Task 1.9 Summation of Three Integers\n",
    "Develop a Python program that reads three integers from the user, each provided on a distinct line, and subsequently outputs their sum.\n",
    "\n",
    "**Input Data Format**\n",
    "\n",
    "The program is expected to receive three integers as input, each integer being provided on a separate line.\n",
    "\n",
    "**Output Data Format**\n",
    "\n",
    "The program should calculate and display the sum of the three entered integers.\n",
    "\n",
    "**Sample Input 1 :**\n",
    "```\n",
    "9\n",
    "11\n",
    "2\n",
    "```\n",
    "**Sample Output 1 :**\n",
    "\n",
    "`22`  "
   ]
  },
  {
   "cell_type": "code",
   "execution_count": null,
   "id": "7344bcfc",
   "metadata": {},
   "outputs": [],
   "source": [
    "### YOUR CODE"
   ]
  },
  {
   "cell_type": "markdown",
   "id": "e3232a45",
   "metadata": {},
   "source": [
    "#### Task 1.10: Calculating Cube Dimensions\n",
    "\n",
    "Create a Python program that computes both the volume and the total surface area of a cube, given the length of one edge.\n",
    "\n",
    "**Input Data Format**\n",
    "\n",
    "The program should accept a single integer, representing the length of an edge of the cube.\n",
    "\n",
    "**Output Data Format**\n",
    "\n",
    "The program must output the calculated volume and total surface area, accompanied by relevant text to make the results explicit.\n",
    "\n",
    "Note: The formulas for calculating the volume $V$ and the total surface area $S$ of a cube are:\n",
    "$$ V=a^3, \\, \\, S=6a^2 $$\n",
    "\n",
    "**Sample Input 1:**\n",
    "```\n",
    "25\n",
    "```\n",
    "\n",
    "**Sample Output 1:**\n",
    "```\n",
    "Volume = 15625\n",
    "Total surface area = 3750\n",
    "```\n",
    "\n",
    "\n"
   ]
  },
  {
   "cell_type": "code",
   "execution_count": null,
   "id": "8f572bf2",
   "metadata": {},
   "outputs": [],
   "source": [
    "### YOUR CODE"
   ]
  },
  {
   "cell_type": "markdown",
   "id": "6b83aa47",
   "metadata": {},
   "source": [
    "#### Task 1.11: Function Value Calculation\n",
    "\n",
    "Write a program to calculate the value of a function\n",
    "$$f(a,b) = 3(a+b)^3 + 275b^2 - 127a - 41$$\n",
    "\n",
    "**Input data format**\n",
    "\n",
    "The input to the program is two integers, each on a separate line. The first line is the value $a$, in the second line - the value $b$ .\n",
    "\n",
    "**Output data format**\n",
    "\n",
    "The program should display the value of the function according to the entered numbers a and $b$. "
   ]
  },
  {
   "cell_type": "code",
   "execution_count": null,
   "id": "cac11b7f",
   "metadata": {},
   "outputs": [],
   "source": [
    "### YOUR CODE"
   ]
  },
  {
   "cell_type": "markdown",
   "id": "d3f1ddfb",
   "metadata": {},
   "source": [
    "#### Task 1.12: Compute and Display Adjacent Integers\n",
    "\n",
    "Design a Python program that reads an integer and subsequently outputs both the next and previous integers, accompanied by explanatory text.\n",
    "\n",
    "**Input Data Format**\n",
    "\n",
    "The program should accept a single integer as its input.\n",
    "\n",
    "**Output Data Format**\n",
    "\n",
    "The program must display the next and previous integers relative to the input integer, and include clear explanatory text to contextualize these values.\n",
    "\n",
    "**Sample Input 1:**\n",
    "```\n",
    "20\n",
    "```\n",
    "\n",
    "**Sample Output 1 :**\n",
    "```\n",
    "The next number after 20 is 21\n",
    "For the number 20, the previous number is: 19\n",
    "```"
   ]
  },
  {
   "cell_type": "code",
   "execution_count": null,
   "id": "97b76fb3",
   "metadata": {},
   "outputs": [],
   "source": [
    "### YOUR CODE"
   ]
  }
 ],
 "metadata": {
  "kernelspec": {
   "display_name": "Python 3 (ipykernel)",
   "language": "python",
   "name": "python3"
  },
  "language_info": {
   "codemirror_mode": {
    "name": "ipython",
    "version": 3
   },
   "file_extension": ".py",
   "mimetype": "text/x-python",
   "name": "python",
   "nbconvert_exporter": "python",
   "pygments_lexer": "ipython3",
   "version": "3.11.5"
  }
 },
 "nbformat": 4,
 "nbformat_minor": 5
}
